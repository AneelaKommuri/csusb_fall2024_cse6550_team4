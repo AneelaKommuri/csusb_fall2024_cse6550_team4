{
 "cells": [
  {
   "cell_type": "code",
   "execution_count": 2,
   "metadata": {},
   "outputs": [
    {
     "name": "stdout",
     "output_type": "stream",
     "text": [
      "\u001b[1mHello world from team 4\u001b[0m\n",
      "\n",
      "Hello, World!\n"
     ]
    }
   ],
   "source": [
    "# Bold text using ANSI escape codes\n",
    "print(\"\\033[1mHello world from team 4\\033[0m\")  # Bold\n",
    "\n",
    "# Blank line for the gap\n",
    "print()\n",
    "\n",
    "# Blank line for the gap\n",
    "print()\n",
    "\n",
    "# Normal text\n",
    "print(\"Hello, World!\")  # Normal\n",
    "\n"
   ]
  }
 ],
 "metadata": {
  "kernelspec": {
   "display_name": "Python 3",
   "language": "python",
   "name": "python3"
  },
  "language_info": {
   "codemirror_mode": {
    "name": "ipython",
    "version": 3
   },
   "file_extension": ".py",
   "mimetype": "text/x-python",
   "name": "python",
   "nbconvert_exporter": "python",
   "pygments_lexer": "ipython3",
   "version": "3.11.9"
  }
 },
 "nbformat": 4,
 "nbformat_minor": 2
}
