{
 "cells": [
  {
   "cell_type": "markdown",
   "id": "29d050be-da98-4d8b-84cc-64aa0a12153c",
   "metadata": {},
   "source": [
    "# Documentation for statistics_chatbot"
   ]
  },
  {
   "cell_type": "markdown",
   "id": "f0e7cd12-9433-4bfd-87f4-a856133db359",
   "metadata": {},
   "source": [
    "### Statistics tracking"
    "- `datetime` module: Enables handling of date and time data\n",
    "\n",
    "- Interaction metrics: Tracks question counts, correct and incorrect answers\n",
    "\n",
    "- Performance metrics: Tracks cumulative response time and accuracy rate\n",
    "\n",
    "- User feedback: Stores satisfaction ratings and feedback comments\n",
    "\n",
    "- Daily statistics: Holds daily interaction data for trend analysis"
   ]
  },
  {
   "cell_type": "code",
   "execution_count": 1,
   "id": "22e5ffd6-7b8d-4677-8a7b-20b5e2750edb",
   "metadata": {},
   "outputs": [
    {
     "name": "stdout",
     "output_type": "stream",
     "text": [
      "Tracks user interactions, performance, and satisfaction metrics.\n"
     ]
    }
   ],
   "source": [
    "from datetime import datetime  # Imports the datetime module to handle date and time operations for tracking interactions\n",
    "\n",
    "# Initialize statistics dictionary to hold all relevant metrics\n",
    "statistics = {\n",
    "    \"number_of_questions\": 0,  # Tracks the total number of questions asked by users\n",
    "    \"number_of_correct_answers\": 0,  # Counts the total number of correct answers given by the bot\n",
    "    \"number_of_incorrect_answers\": 0,  # Counts the total number of incorrect answers given by the bot\n",
    "    \"user_engagement_metrics\": 0,  # Placeholder for user engagement metrics, can be refined later for details\n",
    "    \"total_response_time\": 0,  # Cumulative response time for all interactions, measured in seconds\n",
    "    \"accuracy_rate\": 0.0,  # Accuracy rate of the bot, calculated as a percentage\n",
    "    \"user_satisfaction\": [],  # List to store user satisfaction ratings for each interaction\n",
    "    \"feedback_summary\": [],  # List to store feedback provided by users for future improvements\n",
    "    \"daily_statistics\": {}  # Dictionary to hold daily statistics, enabling daily analysis of interactions\n",
    "}\n",
    "\n",
    "# Print summary of the statistics dictionary\n",
    "print(\"Tracks user interactions, performance, and satisfaction metrics.\")  # Prints a brief overview of the statistics tracked"
   ]
  },
  {
   "cell_type": "markdown",
   "id": "16eff8ac-a835-499a-a23d-428fb7f1b893",
   "metadata": {},
   "source": [
    "### Statistics update function"
    "- Updates global statistics dictionary with new interaction metrics.\n",
    "\n",
    "- Tracks number of searches and response times.\n",
    "\n",
    "- Counts relevant and irrelevant papers found.\n",
    "\n",
    "- Maintains daily statistics for interactions.\n",
    "\n",
    "- Calculates and displays relevance rate percentage."
   ]
  },
  {
   "cell_type": "code",
   "execution_count": 5,
   "id": "57d2f9f8-1f81-4948-838c-b1dc99e8bae9",
   "metadata": {},
   "outputs": [
    {
     "name": "stdout",
     "output_type": "stream",
     "text": [
      "\n",
      "Updated Statistics:\n",
      "Number of Searches: 4\n",
      "Number of Relevant Papers Found: 3\n",
      "Number of Irrelevant Papers Found: 1\n",
      "Total Response Time: 6.2 seconds\n",
      "Relevance Rate: 75.00%\n",
      "Today's Searches Made: 4\n",
      "Today's Relevant Papers Found: 3\n",
      "Today's Irrelevant Papers Found: 1\n",
      "\n",
      "Updated Statistics:\n",
      "Number of Searches: 5\n",
      "Number of Relevant Papers Found: 4\n",
      "Number of Irrelevant Papers Found: 1\n",
      "Total Response Time: 8.2 seconds\n",
      "Relevance Rate: 80.00%\n",
      "Today's Searches Made: 5\n",
      "Today's Relevant Papers Found: 4\n",
      "Today's Irrelevant Papers Found: 1\n",
      "\n",
      "Updated Statistics:\n",
      "Number of Searches: 6\n",
      "Number of Relevant Papers Found: 4\n",
      "Number of Irrelevant Papers Found: 2\n",
      "Total Response Time: 9.399999999999999 seconds\n",
      "Relevance Rate: 66.67%\n",
      "Today's Searches Made: 6\n",
      "Today's Relevant Papers Found: 4\n",
      "Today's Irrelevant Papers Found: 2\n"
     ]
    }
   ],
   "source": [
    "def update_statistics(user_input, bot_response, response_time, relevant=True):\n",
    "    global statistics  # Ensure we're using the global statistics dictionary so updates reflect in the main data structure\n",
    "\n",
    "    # Removed debug print\n",
    "    # print(\"Current Statistics Dictionary:\", statistics)  # Debug print (removed for cleaner code)\n",
    "\n",
    "    # Update basic stats\n",
    "    statistics[\"number_of_searches\"] += 1  # Increment the count of total searches made\n",
    "    statistics[\"total_response_time\"] += response_time  # Add the response time for this search to the cumulative total\n",
    "\n",
    "    # Determine relevance of the response\n",
    "    if relevant:\n",
    "        statistics[\"number_of_relevant_papers_found\"] += 1  # Increment relevant papers count if the result was relevant\n",
    "    else:\n",
    "        statistics[\"number_of_irrelevant_papers_found\"] += 1  # Increment irrelevant papers count if the result was irrelevant\n",
    "\n",
    "    # Update daily statistics\n",
    "    today = datetime.today().strftime('%Y-%m-%d')  # Get today's date in 'YYYY-MM-DD' format\n",
    "    if today not in statistics[\"daily_statistics\"]:\n",
    "        statistics[\"daily_statistics\"][today] = {  # Initialize today's statistics if not already present\n",
    "            \"searches_made\": 0,  # Track the number of searches made today\n",
    "            \"relevant_papers_found\": 0,  # Track relevant papers found today\n",
    "            \"irrelevant_papers_found\": 0  # Track irrelevant papers found today\n",
    "        }\n",
    "\n",
    "    statistics[\"daily_statistics\"][today][\"searches_made\"] += 1  # Increment today's search count\n",
    "    if relevant:\n",
    "        statistics[\"daily_statistics\"][today][\"relevant_papers_found\"] += 1  # Increment today's relevant papers count\n",
    "    else:\n",
    "        statistics[\"daily_statistics\"][today][\"irrelevant_papers_found\"] += 1  # Increment today's irrelevant papers count\n",
    "\n",
    "    # Calculate relevance rate\n",
    "    if statistics[\"number_of_searches\"] > 0:\n",
    "        statistics[\"relevance_rate\"] = (statistics[\"number_of_relevant_papers_found\"] / statistics[\"number_of_searches\"]) * 100  # Calculate relevance rate as a percentage\n",
    "\n",
    "    # Print updated statistics\n",
    "    print(\"\\nUpdated Statistics:\")\n",
    "    print(f\"Number of Searches: {statistics['number_of_searches']}\")  # Display total number of searches\n",
    "    print(f\"Number of Relevant Papers Found: {statistics['number_of_relevant_papers_found']}\")  # Display total relevant papers found\n",
    "    print(f\"Number of Irrelevant Papers Found: {statistics['number_of_irrelevant_papers_found']}\")  # Display total irrelevant papers found\n",
    "    print(f\"Total Response Time: {statistics['total_response_time']} seconds\")  # Display cumulative response time\n",
    "    print(f\"Relevance Rate: {statistics['relevance_rate']:.2f}%\")  # Display relevance rate with two decimal precision\n",
    "    \n",
    "    # Print today's statistics\n",
    "    print(f\"Today's Searches Made: {statistics['daily_statistics'][today]['searches_made']}\")  # Display today's search count\n",
    "    print(f\"Today's Relevant Papers Found: {statistics['daily_statistics'][today]['relevant_papers_found']}\")  # Display today's relevant papers found\n",
    "    print(f\"Today's Irrelevant Papers Found: {statistics['daily_statistics'][today]['irrelevant_papers_found']}\")  # Display today's irrelevant papers found\n",
    "\n",
    "# Example usage\n",
    "update_statistics(user_input=\"Search for papers on software engineering.\", bot_response=\"Found 15 relevant papers.\", response_time=1.5, relevant=True)\n",
    "update_statistics(user_input=\"Search for papers on deep learning.\", bot_response=\"Found 5 relevant papers.\", response_time=2.0, relevant=True)\n",
    "update_statistics(user_input=\"Search for papers on machine learning.\", bot_response=\"No relevant papers found.\", response_time=1.2, relevant=False)"
   ]
  },
  {
   "cell_type": "markdown",
   "id": "e9f04b73-85e6-4215-9915-ac40f6d41e99",
   "metadata": {},
   "source": [
    "### Statistics display function"
    "- Displays current statistics in sidebar format.\n",
    "- Retrieves various performance metrics from statistics.\n",
    "- Calculates average response time and relevance rate.\n",
    "- Formats daily statistics for clear presentation.\n",
    "- Prints structured statistics for user review"
   ]
  },
  {
   "cell_type": "code",
   "execution_count": 6,
   "id": "fa62a1e1-3497-4fa2-b75f-360726146617",
   "metadata": {},
   "outputs": [
    {
     "name": "stdout",
     "output_type": "stream",
     "text": [
      "\n",
      "Current Statistics:\n",
      "Number of Searches: 6\n",
      "Number of Relevant Papers Found: 4\n",
      "Number of Irrelevant Papers Found: 2\n",
      "User Engagement Metrics: 0\n",
      "Avg Response Time (s): 1.57\n",
      "Relevance Rate (%): 66.67\n",
      "User Satisfaction Ratings (1-5): []\n",
      "Feedback Summary: []\n",
      "Daily Statistics:\n",
      "  2024-10-27:\n",
      "    searches_made: 6\n",
      "    relevant_papers_found: 4\n",
      "    irrelevant_papers_found: 2\n"
     ]
    }
   ],
   "source": [
    "# Function to get current statistics for display in the sidebar\n",
    "def get_statistics_display():\n",
    "    # Prepare the statistics data\n",
    "    stats_display = {  # Create a dictionary to hold display-friendly statistics\n",
    "        \"Number of Searches\": statistics[\"number_of_searches\"],  # Retrieve total number of searches from statistics\n",
    "        \"Number of Relevant Papers Found\": statistics[\"number_of_relevant_papers_found\"],  # Retrieve count of relevant papers found\n",
    "        \"Number of Irrelevant Papers Found\": statistics[\"number_of_irrelevant_papers_found\"],  # Retrieve count of irrelevant papers found\n",
    "        \"User Engagement Metrics\": statistics[\"user_engagement_metrics\"],  # Retrieve user engagement metrics\n",
    "        \"Avg Response Time (s)\": round(statistics[\"total_response_time\"] / max(1, statistics[\"number_of_searches\"]), 2),  # Calculate and round average response time\n",
    "        \"Relevance Rate (%)\": round(statistics[\"relevance_rate\"], 2),  # Round relevance rate to two decimal places\n",
    "        \"User Satisfaction Ratings (1-5)\": statistics[\"user_satisfaction\"],  # Retrieve user satisfaction ratings list\n",
    "        \"Feedback Summary\": statistics[\"feedback_summary\"],  # Retrieve feedback summary list\n",
    "        \"Daily Statistics\": statistics[\"daily_statistics\"],  # Retrieve daily statistics dictionary\n",
    "    }\n",
    "    \n",
    "    # Print the statistics in a readable format\n",
    "    print(\"\\nCurrent Statistics:\")  # Print header for current statistics display\n",
    "    for key, value in stats_display.items():  # Iterate through the statistics display dictionary\n",
    "        if isinstance(value, dict):  # Check if the value is a dictionary (for daily statistics)\n",
    "            print(f\"{key}:\")  # Print the key (e.g., \"Daily Statistics\")\n",
    "            for date, daily_stats in value.items():  # Iterate through each date in daily statistics\n",
    "                print(f\"  {date}:\")  # Print the date\n",
    "                for stat_key, stat_value in daily_stats.items():  # Iterate through each statistic for that date\n",
    "                    print(f\"    {stat_key}: {stat_value}\")  # Print each statistic with its value\n",
    "        else:\n",
    "            print(f\"{key}: {value}\")  # Print the key and value directly for non-dictionary values\n",
    "\n",
    "# Example usage\n",
    "# Assuming the statistics have already been updated, call the display function\n",
    "get_statistics_display()  # Call the function to display current statistics"
   ]
  }
 ],
 "metadata": {
  "kernelspec": {
   "display_name": "Python 3 (ipykernel)",
   "language": "python",
   "name": "python3"
  },
  "language_info": {
   "codemirror_mode": {
    "name": "ipython",
    "version": 3
   },
   "file_extension": ".py",
   "mimetype": "text/x-python",
   "name": "python",
   "nbconvert_exporter": "python",
   "pygments_lexer": "ipython3",
   "version": "3.12.6"
  }
 },
 "nbformat": 4,
 "nbformat_minor": 5
}
