{
 "cells": [
  {
   "cell_type": "markdown",
   "metadata": {},
   "source": [
    "# **Importing Necessary Libraries**\n",
    "\n",
    "- `streamlit`: Used to create the web interface.\n",
    "- `uuid`: Generates unique identifiers (for future use if needed).\n",
    "- `os`: Provides functions to work with the operating system, used here for file path management.\n",
    "- `bot` & `statistics_chatbot` modules: Importing custom modules for querying the chatbot and updating/displaying statistics.\n"
   ]
  },
  {
   "cell_type": "code",
   "execution_count": 1,
   "metadata": {},
   "outputs": [
    {
     "ename": "ModuleNotFoundError",
     "evalue": "No module named 'streamlit'",
     "output_type": "error",
     "traceback": [
      "\u001b[1;31m---------------------------------------------------------------------------\u001b[0m",
      "\u001b[1;31mModuleNotFoundError\u001b[0m                       Traceback (most recent call last)",
      "Cell \u001b[1;32mIn[1], line 1\u001b[0m\n\u001b[1;32m----> 1\u001b[0m \u001b[38;5;28;01mimport\u001b[39;00m \u001b[38;5;21;01mstreamlit\u001b[39;00m \u001b[38;5;28;01mas\u001b[39;00m \u001b[38;5;21;01mst\u001b[39;00m\n\u001b[0;32m      2\u001b[0m \u001b[38;5;28;01mfrom\u001b[39;00m \u001b[38;5;21;01muuid\u001b[39;00m \u001b[38;5;28;01mimport\u001b[39;00m uuid4\n\u001b[0;32m      3\u001b[0m \u001b[38;5;28;01mimport\u001b[39;00m \u001b[38;5;21;01mos\u001b[39;00m\n",
      "\u001b[1;31mModuleNotFoundError\u001b[0m: No module named 'streamlit'"
     ]
    }
   ],
   "source": [
    "import streamlit as st\n",
    "from uuid import uuid4\n",
    "import os\n",
    "from bot import *\n",
    "from statistics_chatbot import update_statistics, get_statistics_display  # Importing statistics module"
   ]
  },
  {
   "cell_type": "markdown",
   "metadata": {},
   "source": [
    "# **Setting Page Configuration**\n",
    "\n",
    "- Sets the title to `\"Team4ChatBot\"` and configures the layout to be wide, enhancing the app's visual presentation.\n"
   ]
  },
  {
   "cell_type": "code",
   "execution_count": 2,
   "metadata": {},
   "outputs": [
    {
     "ename": "NameError",
     "evalue": "name 'st' is not defined",
     "output_type": "error",
     "traceback": [
      "\u001b[1;31m---------------------------------------------------------------------------\u001b[0m",
      "\u001b[1;31mNameError\u001b[0m                                 Traceback (most recent call last)",
      "Cell \u001b[1;32mIn[2], line 1\u001b[0m\n\u001b[1;32m----> 1\u001b[0m \u001b[43mst\u001b[49m\u001b[38;5;241m.\u001b[39mset_page_config(page_title\u001b[38;5;241m=\u001b[39m\u001b[38;5;124m\"\u001b[39m\u001b[38;5;124mTeam4ChatBot\u001b[39m\u001b[38;5;124m\"\u001b[39m, layout\u001b[38;5;241m=\u001b[39m\u001b[38;5;124m\"\u001b[39m\u001b[38;5;124mwide\u001b[39m\u001b[38;5;124m\"\u001b[39m)\n\u001b[0;32m      2\u001b[0m \u001b[38;5;28mprint\u001b[39m(\u001b[38;5;124m\"\u001b[39m\u001b[38;5;124mPage configuration set\u001b[39m\u001b[38;5;124m\"\u001b[39m)\n",
      "\u001b[1;31mNameError\u001b[0m: name 'st' is not defined"
     ]
    }
   ],
   "source": [
    "st.set_page_config(page_title=\"Team4ChatBot\", layout=\"wide\")\n",
    "print(\"Page configuration set\")\n"
   ]
  },
  {
   "cell_type": "markdown",
   "metadata": {},
   "source": [
    "# **Applying Custom CSS Styling**\n",
    "\n",
    "- Loads a custom CSS file for styling the app and applies it using Streamlit’s Markdown.\n",
    "- The print statement confirms that the styling is applied.\n"
   ]
  },
  {
   "cell_type": "code",
   "execution_count": null,
   "metadata": {},
   "outputs": [],
   "source": [
    "css_file_path = os.path.join(os.path.dirname(__file__), 'styles', 'styles.css')\n",
    "with open(css_file_path) as f:\n",
    "    st.markdown(f'<style>{f.read()}</style>', unsafe_allow_html=True)\n",
    "print(\"CSS styling applied\")\n"
   ]
  },
  {
   "cell_type": "markdown",
   "metadata": {},
   "source": [
    "# **Setting the Page Title**\n",
    "\n",
    "- Displays the main title for the chatbot application.\n"
   ]
  },
  {
   "cell_type": "code",
   "execution_count": null,
   "metadata": {},
   "outputs": [],
   "source": [
    "st.title(\"Team4 Chatbot\")\n",
    "print(\"Page title set\")\n"
   ]
  },
  {
   "cell_type": "markdown",
   "metadata": {},
   "source": [
    "# **Sidebar Header for Static Report Metrics**\n",
    "\n",
    "- Adds a header in the sidebar to display static metrics.\n"
   ]
  },
  {
   "cell_type": "code",
   "execution_count": null,
   "metadata": {},
   "outputs": [],
   "source": [
    "st.sidebar.header(\"10 Statistics Report\")\n",
    "print(\"Sidebar header added\")\n"
   ]
  },
  {
   "cell_type": "markdown",
   "metadata": {},
   "source": [
    "# **Initializing Chat History**\n",
    "\n",
    "- Ensures chat history is maintained across interactions by storing it in `st.session_state`.\n"
   ]
  },
  {
   "cell_type": "code",
   "execution_count": null,
   "metadata": {},
   "outputs": [],
   "source": [
    "if 'chat_history' not in st.session_state:\n",
    "    st.session_state.chat_history = []\n",
    "print(\"Chat history session state initialized\")\n"
   ]
  },
  {
   "cell_type": "markdown",
   "metadata": {},
   "source": [
    "# **Setting Up Chat Input Box**\n",
    "\n",
    "- Creates an input box where users can type messages.\n"
   ]
  },
  {
   "cell_type": "code",
   "execution_count": null,
   "metadata": {},
   "outputs": [],
   "source": [
    "user_input = st.chat_input(\"Message writing assistant\")\n",
    "print(\"Chat input box displayed\")\n"
   ]
  },
  {
   "cell_type": "markdown",
   "metadata": {},
   "source": [
    "# **Fetching and Displaying Sidebar Statistics**\n",
    "\n",
    "- Calls `get_statistics_display()` to retrieve statistical data and displays it in the sidebar.\n"
   ]
  },
  {
   "cell_type": "code",
   "execution_count": null,
   "metadata": {},
   "outputs": [],
   "source": [
    "current_stats = get_statistics_display()\n",
    "for key, value in current_stats.items():\n",
    "    st.sidebar.markdown(f'<div class=\"question-box\">{key}: {value}</div>', unsafe_allow_html=True)\n",
    "print(\"Sidebar statistics displayed\")\n"
   ]
  },
  {
   "cell_type": "markdown",
   "metadata": {},
   "source": [
    "# **Initializing Milvus Vector Store**\n",
    "\n",
    "- Loads and initializes Milvus, the vector store for document storage and retrieval, displaying a spinner while loading.\n"
   ]
  },
  {
   "cell_type": "code",
   "execution_count": null,
   "metadata": {},
   "outputs": [],
   "source": [
    "if 'conversation' not in st.session_state:\n",
    "    st.session_state['conversation'] = []\n",
    "    with st.spinner(\"Initializing, Please Wait...\"):\n",
    "        vector_store = initialize_milvus()\n",
    "print(\"Milvus vector store initialized\")\n"
   ]
  },
  {
   "cell_type": "markdown",
   "metadata": {},
   "source": [
    "# **Cleaning Up Repeated Text in the Bot's Response**\n",
    "\n",
    "- **Purpose**: Removes repeated sentences from the bot’s response for clarity.\n",
    "- **Logic**: Splits the response into sentences, checks for duplicates, and returns a cleaned version.\n",
    "- **Print statement**: Indicates when cleaning is done.\n"
   ]
  },
  {
   "cell_type": "code",
   "execution_count": null,
   "metadata": {},
   "outputs": [],
   "source": [
    "def clean_repeated_text(text):\n",
    "    sentences = text.split('. ')\n",
    "    seen = set()\n",
    "    cleaned_sentences = []\n",
    "    \n",
    "    for sentence in sentences:\n",
    "        if sentence not in seen:\n",
    "            cleaned_sentences.append(sentence)\n",
    "            seen.add(sentence)\n",
    "    print(\"Repeated text cleaned\")\n",
    "    return '. '.join(cleaned_sentences)\n"
   ]
  },
  {
   "cell_type": "markdown",
   "metadata": {},
   "source": [
    "# **Handling User Input**\n",
    "\n",
    "- **Function Purpose**: Handles the main chatbot response cycle.\n",
    "- **Steps**:\n",
    "  - Starts a timer to measure response time.\n",
    "  - Adds the user’s input to the chat history and displays it.\n",
    "  - Invokes `query_rag` to get the bot’s response and cleans it using `clean_repeated_text`.\n",
    "  - Updates chat history and displays the bot’s response.\n",
    "  - Calculates and updates response statistics.\n"
   ]
  },
  {
   "cell_type": "code",
   "execution_count": null,
   "metadata": {},
   "outputs": [],
   "source": [
    "def handle_user_input(user_input):\n",
    "    import time\n",
    "    start_time = time.time()\n",
    "    print(\"User input received, starting response generation timer\")\n",
    "\n",
    "    st.session_state.chat_history.append({\"role\": \"user\", \"content\": user_input})\n",
    "    st.markdown(f\"<div class='user-message'>{user_input}</div>\", unsafe_allow_html=True)\n",
    "    print(\"User input added to chat history\")\n",
    "\n",
    "    with st.spinner(\"Response Generating, please wait...\"):\n",
    "        bot_response, citations = query_rag(user_input)\n",
    "        cleaned_response = clean_repeated_text(bot_response)\n",
    "        print(\"Bot response and citations generated and cleaned\")\n",
    "\n",
    "    full_response = cleaned_response\n",
    "    if citations:\n",
    "        full_response += f\"\\n\\nReferences: {citations}\"\n",
    "    st.session_state.chat_history.append({\"role\": \"bot\", \"content\": full_response})\n",
    "    print(\"Bot response added to chat history\")\n",
    "\n",
    "    response_time = time.time() - start_time\n",
    "    correct_answer = True\n",
    "    update_statistics(user_input, full_response, response_time, correct_answer)\n",
    "    print(f\"Response time calculated: {response_time}s\")\n"
   ]
  },
  {
   "cell_type": "markdown",
   "metadata": {},
   "source": [
    "# **Processing User Input When Available**\n",
    "\n",
    "- Calls `handle_user_input` if there is a new user message.\n"
   ]
  },
  {
   "cell_type": "code",
   "execution_count": null,
   "metadata": {},
   "outputs": [],
   "source": [
    "if user_input:\n",
    "    handle_user_input(user_input)\n"
   ]
  },
  {
   "cell_type": "markdown",
   "metadata": {},
   "source": [
    "# **Rendering Chat History**\n",
    "\n",
    "- **Purpose**: Displays the complete chat history, showing only bot responses.\n"
   ]
  },
  {
   "cell_type": "code",
   "execution_count": null,
   "metadata": {},
   "outputs": [],
   "source": [
    "for message in st.session_state.chat_history:\n",
    "    if message['role'] == 'user':\n",
    "        continue\n",
    "    else:\n",
    "        st.markdown(f\"{message['content']}\")\n",
    "print(\"Chat history rendered\")\n"
   ]
  },
  {
   "cell_type": "markdown",
   "metadata": {},
   "source": [
    "# **Feedback Mechanism for User Satisfaction**\n",
    "\n",
    "- **Feedback Feature**: Allows users to provide thumbs-up or thumbs-down feedback.\n",
    "- **Mapping**: Uses icons to indicate user sentiment visually.\n"
   ]
  },
  {
   "cell_type": "code",
   "execution_count": null,
   "metadata": {},
   "outputs": [],
   "source": [
    "sentiment_mapping = [\":material/thumb_down:\", \":material/thumb_up:\"]\n",
    "selected = st.feedback(\"thumbs\")\n",
    "if selected is not None:\n",
    "    st.markdown(f\"You selected: {sentiment_mapping[selected]}\")\n",
    "print(\"Feedback mechanism initialized\")\n"
   ]
  },
  {
   "cell_type": "markdown",
   "metadata": {},
   "source": []
  }
 ],
 "metadata": {
  "kernelspec": {
   "display_name": "Python 3",
   "language": "python",
   "name": "python3"
  },
  "language_info": {
   "codemirror_mode": {
    "name": "ipython",
    "version": 3
   },
   "file_extension": ".py",
   "mimetype": "text/x-python",
   "name": "python",
   "nbconvert_exporter": "python",
   "pygments_lexer": "ipython3",
   "version": "3.11.9"
  }
 },
 "nbformat": 4,
 "nbformat_minor": 2
}
